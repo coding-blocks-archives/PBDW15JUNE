{
 "cells": [
  {
   "cell_type": "code",
   "execution_count": 1,
   "metadata": {},
   "outputs": [],
   "source": [
    "from selenium import webdriver"
   ]
  },
  {
   "cell_type": "code",
   "execution_count": 4,
   "metadata": {},
   "outputs": [],
   "source": [
    "browser = webdriver.Chrome('/Users/himankbhalla/Downloads/chromedriver_2')"
   ]
  },
  {
   "cell_type": "code",
   "execution_count": 5,
   "metadata": {},
   "outputs": [],
   "source": [
    "browser.get('https://codechef.com')"
   ]
  },
  {
   "cell_type": "code",
   "execution_count": 35,
   "metadata": {},
   "outputs": [],
   "source": [
    "username = browser.find_element_by_id('edit-name')"
   ]
  },
  {
   "cell_type": "code",
   "execution_count": 36,
   "metadata": {},
   "outputs": [],
   "source": [
    "username.send_keys('himankb')"
   ]
  },
  {
   "cell_type": "code",
   "execution_count": 46,
   "metadata": {},
   "outputs": [],
   "source": [
    "password = browser.find_element_by_id('edit-pass')"
   ]
  },
  {
   "cell_type": "code",
   "execution_count": 38,
   "metadata": {},
   "outputs": [],
   "source": [
    "from getpass import getpass"
   ]
  },
  {
   "cell_type": "code",
   "execution_count": 47,
   "metadata": {},
   "outputs": [
    {
     "name": "stdout",
     "output_type": "stream",
     "text": [
      "Enter password········\n"
     ]
    }
   ],
   "source": [
    "password.send_keys(getpass('Enter password'))"
   ]
  },
  {
   "cell_type": "code",
   "execution_count": 48,
   "metadata": {},
   "outputs": [],
   "source": [
    "login_button = browser.find_element_by_id('edit-submit')"
   ]
  },
  {
   "cell_type": "code",
   "execution_count": 49,
   "metadata": {},
   "outputs": [],
   "source": [
    "login_button.click()"
   ]
  },
  {
   "cell_type": "code",
   "execution_count": 50,
   "metadata": {},
   "outputs": [],
   "source": [
    "browser.get('https://codechef.com/submit/TEST')"
   ]
  },
  {
   "cell_type": "code",
   "execution_count": 51,
   "metadata": {},
   "outputs": [],
   "source": [
    "textArea = browser.find_element_by_id('edit-program')"
   ]
  },
  {
   "cell_type": "code",
   "execution_count": 53,
   "metadata": {},
   "outputs": [
    {
     "name": "stdout",
     "output_type": "stream",
     "text": [
      "t = int(input())\n",
      "while t != 42:\n",
      "    print(t)\n",
      "    t = int(input())\n",
      "else:\n",
      "    pass\n",
      "\n"
     ]
    }
   ],
   "source": [
    "with open('solution.py', 'r') as f:\n",
    "    code = f.read()\n",
    "    print(code)\n",
    "    textArea.send_keys(code)"
   ]
  },
  {
   "cell_type": "code",
   "execution_count": 54,
   "metadata": {},
   "outputs": [],
   "source": [
    "submit_button = browser.find_element_by_id('edit-submit-1')"
   ]
  },
  {
   "cell_type": "code",
   "execution_count": 55,
   "metadata": {},
   "outputs": [],
   "source": [
    "submit_button.click()"
   ]
  },
  {
   "cell_type": "code",
   "execution_count": 56,
   "metadata": {},
   "outputs": [],
   "source": [
    "import requests"
   ]
  },
  {
   "cell_type": "code",
   "execution_count": 57,
   "metadata": {},
   "outputs": [],
   "source": [
    "facebook_id = 4\n",
    "url = 'https://graph.facebook.com/{}/picture?type=large'.format(facebook_id)\n",
    "result = requests.get(url)"
   ]
  },
  {
   "cell_type": "code",
   "execution_count": 62,
   "metadata": {},
   "outputs": [],
   "source": [
    "with open('profile.jpg', 'wb') as f:\n",
    "    f.write(result.content)"
   ]
  },
  {
   "cell_type": "code",
   "execution_count": 63,
   "metadata": {},
   "outputs": [],
   "source": [
    "key = 'a0be88dbdd2593c0b176df3a1d01a100'\n",
    "code = 'just a simple paste for demo.'\n",
    "name = 'api_paste'\n",
    "url = 'https://pastebin.com/api/api_post.php'\n",
    "data = {\n",
    "    \"api_dev_key\": key,\n",
    "    \"api_option\": 'paste',\n",
    "    \"api_paste_code\": code,\n",
    "    \"api_paste_name\": name\n",
    "}\n",
    "response = requests.post(url, data=data)"
   ]
  },
  {
   "cell_type": "code",
   "execution_count": 64,
   "metadata": {},
   "outputs": [
    {
     "data": {
      "text/plain": [
       "'https://pastebin.com/UDdfSSd9'"
      ]
     },
     "execution_count": 64,
     "metadata": {},
     "output_type": "execute_result"
    }
   ],
   "source": [
    "response.text"
   ]
  },
  {
   "cell_type": "code",
   "execution_count": 65,
   "metadata": {},
   "outputs": [],
   "source": [
    "from bs4 import BeautifulSoup"
   ]
  },
  {
   "cell_type": "code",
   "execution_count": 66,
   "metadata": {},
   "outputs": [],
   "source": [
    "import html5lib"
   ]
  },
  {
   "cell_type": "code",
   "execution_count": 67,
   "metadata": {},
   "outputs": [],
   "source": [
    "url = 'https://www.passiton.com/inspirational-quotes'"
   ]
  },
  {
   "cell_type": "code",
   "execution_count": 69,
   "metadata": {},
   "outputs": [],
   "source": [
    "response = requests.get(url)"
   ]
  },
  {
   "cell_type": "code",
   "execution_count": 71,
   "metadata": {},
   "outputs": [],
   "source": [
    "soup = BeautifulSoup(response.content, 'html5lib')"
   ]
  },
  {
   "cell_type": "code",
   "execution_count": 73,
   "metadata": {},
   "outputs": [],
   "source": [
    "img_list = soup.find(id = \"all_quotes\").findAll('img')"
   ]
  },
  {
   "cell_type": "code",
   "execution_count": 74,
   "metadata": {},
   "outputs": [
    {
     "data": {
      "text/plain": [
       "'https://quotes.values.com/quote_artwork/4440/medium/20190705_friday_quote.jpg?1561750174'"
      ]
     },
     "execution_count": 74,
     "metadata": {},
     "output_type": "execute_result"
    }
   ],
   "source": [
    "img_list[0].attrs['src']"
   ]
  },
  {
   "cell_type": "code",
   "execution_count": 75,
   "metadata": {},
   "outputs": [
    {
     "name": "stdout",
     "output_type": "stream",
     "text": [
      "https://quotes.values.com/quote_artwork/4440/medium/20190705_friday_quote.jpg?1561750174\n",
      "https://quotes.values.com/quote_artwork/7227/medium/20190704_thursday_quote.jpg?1561750149\n",
      "https://quotes.values.com/quote_artwork/3666/medium/20190703_wednesday_quote.jpg?1561750097\n",
      "https://quotes.values.com/quote_artwork/7942/medium/20190702_tuesday_quote.jpg?1561750070\n",
      "https://quotes.values.com/quote_artwork/7941/medium/20190701_monday_quote.jpg?1561750040\n",
      "https://quotes.values.com/quote_artwork/3208/medium/20190628_friday_quote.jpg?1561128286\n",
      "https://quotes.values.com/quote_artwork/3035/medium/20190627_thursday_quote.jpg?1561128232\n",
      "https://quotes.values.com/quote_artwork/7940/medium/20190626_wednesday_quote.jpg?1561128205\n",
      "https://quotes.values.com/quote_artwork/7939/medium/20190625_tuesday_quote.jpg?1561128186\n",
      "https://quotes.values.com/quote_artwork/7938/medium/20190624_monday_quote.jpg?1561128165\n",
      "https://quotes.values.com/quote_artwork/7936/medium/20190621_friday_quote.jpg?1560538553\n",
      "https://quotes.values.com/quote_artwork/7935/medium/20190620_thursday_quote.jpg?1560538528\n",
      "https://quotes.values.com/quote_artwork/7934/medium/20190619_wednesday_quote.jpg?1560538500\n",
      "https://quotes.values.com/quote_artwork/7933/medium/20190618_tuesday_quote.jpg?1560538460\n",
      "https://quotes.values.com/quote_artwork/7937/medium/20190617_monday_quote.jpg?1560538436\n",
      "https://quotes.values.com/quote_artwork/6567/medium/20190614_friday_quote.jpg?1559862184\n",
      "https://quotes.values.com/quote_artwork/7932/medium/20190613_thursday_quote.jpg?1559862156\n",
      "https://quotes.values.com/quote_artwork/7931/medium/20190612_wednesday_quote.jpg?1559862129\n",
      "https://quotes.values.com/quote_artwork/7664/medium/20190611_tuesday_quote.jpg?1559862107\n",
      "https://quotes.values.com/quote_artwork/7930/medium/20190610_monday_quote.jpg?1559862083\n",
      "https://quotes.values.com/quote_artwork/7929/medium/20190607_friday_quote.jpg?1559263864\n",
      "https://quotes.values.com/quote_artwork/7509/medium/20190606_thursday_quote.jpg?1559263829\n",
      "https://quotes.values.com/quote_artwork/7928/medium/20190605_wednesday_quote_alternate.jpg?1559318438\n",
      "https://quotes.values.com/quote_artwork/7927/medium/20190604_tuesday_quote.jpg?1559263748\n",
      "https://quotes.values.com/quote_artwork/7926/medium/20190603_monday_quote.jpg?1559263720\n",
      "https://quotes.values.com/quote_artwork/7925/medium/20190531_friday_quote.jpg?1558885426\n",
      "https://quotes.values.com/quote_artwork/6204/medium/20190530_thursday_quote.jpg?1558885388\n",
      "https://quotes.values.com/quote_artwork/5285/medium/20190529_wednesday_quote.jpg?1558885348\n",
      "https://quotes.values.com/quote_artwork/7924/medium/20190528_tuesday_quote.jpg?1558885277\n",
      "https://quotes.values.com/quote_artwork/7923/medium/20190527_monday_quote.jpg?1558885204\n",
      "https://quotes.values.com/quote_artwork/6155/medium/20190524_friday_quote.jpg?1558123118\n",
      "https://quotes.values.com/quote_artwork/7922/medium/20190523_thursday_quote.jpg?1558123087\n"
     ]
    }
   ],
   "source": [
    "for index, img in enumerate(img_list):\n",
    "    print(img.attrs['src'])\n",
    "    name = 'img/quotes-{}.jpg'.format(index)\n",
    "    with open(name, 'wb') as f:\n",
    "        bin_img = requests.get(img.attrs['src'])\n",
    "        f.write(bin_img.content)"
   ]
  },
  {
   "cell_type": "code",
   "execution_count": null,
   "metadata": {},
   "outputs": [],
   "source": []
  },
  {
   "cell_type": "code",
   "execution_count": null,
   "metadata": {},
   "outputs": [],
   "source": []
  },
  {
   "cell_type": "code",
   "execution_count": null,
   "metadata": {},
   "outputs": [],
   "source": []
  },
  {
   "cell_type": "code",
   "execution_count": null,
   "metadata": {},
   "outputs": [],
   "source": []
  },
  {
   "cell_type": "code",
   "execution_count": null,
   "metadata": {},
   "outputs": [],
   "source": []
  }
 ],
 "metadata": {
  "kernelspec": {
   "display_name": "Python 3",
   "language": "python",
   "name": "python3"
  },
  "language_info": {
   "codemirror_mode": {
    "name": "ipython",
    "version": 3
   },
   "file_extension": ".py",
   "mimetype": "text/x-python",
   "name": "python",
   "nbconvert_exporter": "python",
   "pygments_lexer": "ipython3",
   "version": "3.6.5rc1"
  }
 },
 "nbformat": 4,
 "nbformat_minor": 2
}
